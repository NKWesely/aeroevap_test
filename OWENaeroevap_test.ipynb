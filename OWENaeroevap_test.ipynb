{
 "cells": [
  {
   "cell_type": "code",
   "execution_count": 23,
   "id": "39f15722",
   "metadata": {},
   "outputs": [],
   "source": [
    "import pandas as pd\n",
    "import numpy as np\n",
    "from aeroevap import Aero\n",
    "from IPython.display import IFrame\n",
    "import matplotlib.pyplot as plt\n",
    "%matplotlib inline"
   ]
  },
  {
   "cell_type": "code",
   "execution_count": 24,
   "id": "18dbbeb7",
   "metadata": {},
   "outputs": [],
   "source": [
    "AFClean_path ='C:\\DRI\\ReservoirEvap\\CleanedBokeh\\AFClean.csv'"
   ]
  },
  {
   "cell_type": "code",
   "execution_count": 25,
   "id": "d57adcde",
   "metadata": {},
   "outputs": [],
   "source": [
    "AFcalc_df = pd.read_csv(AFClean_path, index_col = \"real_date\", na_values= np.nan)"
   ]
  },
  {
   "cell_type": "code",
   "execution_count": 26,
   "id": "2adeb5b9",
   "metadata": {},
   "outputs": [],
   "source": [
    "#convert pressure column to correct units\n",
    "AFcalc_df['BPelev_mb_Avg'] = AFcalc_df['elev_pressure_kpa']*10"
   ]
  },
  {
   "cell_type": "code",
   "execution_count": 27,
   "id": "ccacef18",
   "metadata": {},
   "outputs": [],
   "source": [
    "Aero_empty = Aero()\n",
    "Aero_with_df = Aero(AFcalc_df)"
   ]
  },
  {
   "cell_type": "code",
   "execution_count": 28,
   "id": "18194105",
   "metadata": {},
   "outputs": [
    {
     "data": {
      "text/plain": [
       "True"
      ]
     },
     "execution_count": 28,
     "metadata": {},
     "output_type": "execute_result"
    }
   ],
   "source": [
    "Aero_empty.df is None"
   ]
  },
  {
   "cell_type": "code",
   "execution_count": 29,
   "id": "be5b577c",
   "metadata": {},
   "outputs": [],
   "source": [
    "Aero_empty.df = AFcalc_df"
   ]
  },
  {
   "cell_type": "code",
   "execution_count": 30,
   "id": "ecedd1c0",
   "metadata": {},
   "outputs": [
    {
     "data": {
      "text/html": [
       "<div>\n",
       "<style scoped>\n",
       "    .dataframe tbody tr th:only-of-type {\n",
       "        vertical-align: middle;\n",
       "    }\n",
       "\n",
       "    .dataframe tbody tr th {\n",
       "        vertical-align: top;\n",
       "    }\n",
       "\n",
       "    .dataframe thead th {\n",
       "        text-align: right;\n",
       "    }\n",
       "</style>\n",
       "<table border=\"1\" class=\"dataframe\">\n",
       "  <thead>\n",
       "    <tr style=\"text-align: right;\">\n",
       "      <th></th>\n",
       "      <th>Buoy</th>\n",
       "      <th>ws_ms_avg</th>\n",
       "      <th>wind_direction_avg</th>\n",
       "      <th>swin_avg</th>\n",
       "      <th>swout_avg</th>\n",
       "      <th>lwin_corr_avg</th>\n",
       "      <th>lwout_corr_avg</th>\n",
       "      <th>atemp_avg</th>\n",
       "      <th>r_humidity_avg</th>\n",
       "      <th>bp_kpa_avg</th>\n",
       "      <th>...</th>\n",
       "      <th>WaterTemp_35M</th>\n",
       "      <th>WaterTemp_40M</th>\n",
       "      <th>WaterTemp_45M</th>\n",
       "      <th>WaterTemp_50M</th>\n",
       "      <th>WaterTemp_75M</th>\n",
       "      <th>WaterTemp_96M</th>\n",
       "      <th>WaterTemp_111M</th>\n",
       "      <th>elevation</th>\n",
       "      <th>elev_pressure_kpa</th>\n",
       "      <th>BP_mb_Avg</th>\n",
       "    </tr>\n",
       "    <tr>\n",
       "      <th>real_date</th>\n",
       "      <th></th>\n",
       "      <th></th>\n",
       "      <th></th>\n",
       "      <th></th>\n",
       "      <th></th>\n",
       "      <th></th>\n",
       "      <th></th>\n",
       "      <th></th>\n",
       "      <th></th>\n",
       "      <th></th>\n",
       "      <th></th>\n",
       "      <th></th>\n",
       "      <th></th>\n",
       "      <th></th>\n",
       "      <th></th>\n",
       "      <th></th>\n",
       "      <th></th>\n",
       "      <th></th>\n",
       "      <th></th>\n",
       "      <th></th>\n",
       "      <th></th>\n",
       "    </tr>\n",
       "  </thead>\n",
       "  <tbody>\n",
       "    <tr>\n",
       "      <th>2015-11-15 09:00:00</th>\n",
       "      <td>AF</td>\n",
       "      <td>3.201571</td>\n",
       "      <td>NaN</td>\n",
       "      <td>NaN</td>\n",
       "      <td>NaN</td>\n",
       "      <td>NaN</td>\n",
       "      <td>NaN</td>\n",
       "      <td>-0.415</td>\n",
       "      <td>NaN</td>\n",
       "      <td>89.31443</td>\n",
       "      <td>...</td>\n",
       "      <td>NaN</td>\n",
       "      <td>NaN</td>\n",
       "      <td>NaN</td>\n",
       "      <td>NaN</td>\n",
       "      <td>NaN</td>\n",
       "      <td>NaN</td>\n",
       "      <td>NaN</td>\n",
       "      <td>4323.06</td>\n",
       "      <td>86.663807</td>\n",
       "      <td>866.638075</td>\n",
       "    </tr>\n",
       "    <tr>\n",
       "      <th>2015-11-15 09:30:00</th>\n",
       "      <td>AF</td>\n",
       "      <td>3.543000</td>\n",
       "      <td>204.0</td>\n",
       "      <td>NaN</td>\n",
       "      <td>NaN</td>\n",
       "      <td>NaN</td>\n",
       "      <td>NaN</td>\n",
       "      <td>0.138</td>\n",
       "      <td>0.138</td>\n",
       "      <td>89.32478</td>\n",
       "      <td>...</td>\n",
       "      <td>NaN</td>\n",
       "      <td>NaN</td>\n",
       "      <td>NaN</td>\n",
       "      <td>NaN</td>\n",
       "      <td>NaN</td>\n",
       "      <td>NaN</td>\n",
       "      <td>NaN</td>\n",
       "      <td>4323.06</td>\n",
       "      <td>86.663807</td>\n",
       "      <td>866.638075</td>\n",
       "    </tr>\n",
       "    <tr>\n",
       "      <th>2015-11-15 10:00:00</th>\n",
       "      <td>AF</td>\n",
       "      <td>3.543000</td>\n",
       "      <td>205.6</td>\n",
       "      <td>NaN</td>\n",
       "      <td>NaN</td>\n",
       "      <td>NaN</td>\n",
       "      <td>NaN</td>\n",
       "      <td>0.678</td>\n",
       "      <td>0.678</td>\n",
       "      <td>89.34755</td>\n",
       "      <td>...</td>\n",
       "      <td>NaN</td>\n",
       "      <td>NaN</td>\n",
       "      <td>NaN</td>\n",
       "      <td>NaN</td>\n",
       "      <td>NaN</td>\n",
       "      <td>NaN</td>\n",
       "      <td>NaN</td>\n",
       "      <td>4323.06</td>\n",
       "      <td>86.663807</td>\n",
       "      <td>866.638075</td>\n",
       "    </tr>\n",
       "    <tr>\n",
       "      <th>2015-11-15 10:30:00</th>\n",
       "      <td>AF</td>\n",
       "      <td>2.850000</td>\n",
       "      <td>204.8</td>\n",
       "      <td>NaN</td>\n",
       "      <td>NaN</td>\n",
       "      <td>NaN</td>\n",
       "      <td>NaN</td>\n",
       "      <td>1.335</td>\n",
       "      <td>1.335</td>\n",
       "      <td>89.33864</td>\n",
       "      <td>...</td>\n",
       "      <td>NaN</td>\n",
       "      <td>NaN</td>\n",
       "      <td>NaN</td>\n",
       "      <td>NaN</td>\n",
       "      <td>NaN</td>\n",
       "      <td>NaN</td>\n",
       "      <td>NaN</td>\n",
       "      <td>4323.06</td>\n",
       "      <td>86.663807</td>\n",
       "      <td>866.638075</td>\n",
       "    </tr>\n",
       "    <tr>\n",
       "      <th>2015-11-15 11:00:00</th>\n",
       "      <td>AF</td>\n",
       "      <td>3.790000</td>\n",
       "      <td>219.6</td>\n",
       "      <td>NaN</td>\n",
       "      <td>NaN</td>\n",
       "      <td>NaN</td>\n",
       "      <td>NaN</td>\n",
       "      <td>2.208</td>\n",
       "      <td>2.208</td>\n",
       "      <td>89.35052</td>\n",
       "      <td>...</td>\n",
       "      <td>NaN</td>\n",
       "      <td>NaN</td>\n",
       "      <td>NaN</td>\n",
       "      <td>NaN</td>\n",
       "      <td>NaN</td>\n",
       "      <td>NaN</td>\n",
       "      <td>NaN</td>\n",
       "      <td>4323.06</td>\n",
       "      <td>86.663807</td>\n",
       "      <td>866.638075</td>\n",
       "    </tr>\n",
       "  </tbody>\n",
       "</table>\n",
       "<p>5 rows × 134 columns</p>\n",
       "</div>"
      ],
      "text/plain": [
       "                    Buoy  ws_ms_avg  wind_direction_avg  swin_avg  swout_avg  \\\n",
       "real_date                                                                      \n",
       "2015-11-15 09:00:00   AF   3.201571                 NaN       NaN        NaN   \n",
       "2015-11-15 09:30:00   AF   3.543000               204.0       NaN        NaN   \n",
       "2015-11-15 10:00:00   AF   3.543000               205.6       NaN        NaN   \n",
       "2015-11-15 10:30:00   AF   2.850000               204.8       NaN        NaN   \n",
       "2015-11-15 11:00:00   AF   3.790000               219.6       NaN        NaN   \n",
       "\n",
       "                     lwin_corr_avg  lwout_corr_avg  atemp_avg  r_humidity_avg  \\\n",
       "real_date                                                                       \n",
       "2015-11-15 09:00:00            NaN             NaN     -0.415             NaN   \n",
       "2015-11-15 09:30:00            NaN             NaN      0.138           0.138   \n",
       "2015-11-15 10:00:00            NaN             NaN      0.678           0.678   \n",
       "2015-11-15 10:30:00            NaN             NaN      1.335           1.335   \n",
       "2015-11-15 11:00:00            NaN             NaN      2.208           2.208   \n",
       "\n",
       "                     bp_kpa_avg  ...  WaterTemp_35M  WaterTemp_40M  \\\n",
       "real_date                        ...                                 \n",
       "2015-11-15 09:00:00    89.31443  ...            NaN            NaN   \n",
       "2015-11-15 09:30:00    89.32478  ...            NaN            NaN   \n",
       "2015-11-15 10:00:00    89.34755  ...            NaN            NaN   \n",
       "2015-11-15 10:30:00    89.33864  ...            NaN            NaN   \n",
       "2015-11-15 11:00:00    89.35052  ...            NaN            NaN   \n",
       "\n",
       "                     WaterTemp_45M  WaterTemp_50M  WaterTemp_75M  \\\n",
       "real_date                                                          \n",
       "2015-11-15 09:00:00            NaN            NaN            NaN   \n",
       "2015-11-15 09:30:00            NaN            NaN            NaN   \n",
       "2015-11-15 10:00:00            NaN            NaN            NaN   \n",
       "2015-11-15 10:30:00            NaN            NaN            NaN   \n",
       "2015-11-15 11:00:00            NaN            NaN            NaN   \n",
       "\n",
       "                     WaterTemp_96M  WaterTemp_111M  elevation  \\\n",
       "real_date                                                       \n",
       "2015-11-15 09:00:00            NaN             NaN    4323.06   \n",
       "2015-11-15 09:30:00            NaN             NaN    4323.06   \n",
       "2015-11-15 10:00:00            NaN             NaN    4323.06   \n",
       "2015-11-15 10:30:00            NaN             NaN    4323.06   \n",
       "2015-11-15 11:00:00            NaN             NaN    4323.06   \n",
       "\n",
       "                     elev_pressure_kpa   BP_mb_Avg  \n",
       "real_date                                           \n",
       "2015-11-15 09:00:00          86.663807  866.638075  \n",
       "2015-11-15 09:30:00          86.663807  866.638075  \n",
       "2015-11-15 10:00:00          86.663807  866.638075  \n",
       "2015-11-15 10:30:00          86.663807  866.638075  \n",
       "2015-11-15 11:00:00          86.663807  866.638075  \n",
       "\n",
       "[5 rows x 134 columns]"
      ]
     },
     "execution_count": 30,
     "metadata": {},
     "output_type": "execute_result"
    }
   ],
   "source": [
    "# the data has been added\n",
    "Aero_empty.df.tail()"
   ]
  },
  {
   "cell_type": "code",
   "execution_count": 31,
   "id": "481d2ec8",
   "metadata": {},
   "outputs": [],
   "source": [
    "# !!!\n",
    "# make a naming dict to match up columns with Aero variable names\n",
    "names = {\n",
    "    'real_date' : 'date',\n",
    "    'ws_ms_avg' : 'WS',\n",
    "    'atemp_avg' : 'T_air',\n",
    "    'r_humidity_avg' : 'RH',\n",
    "    #'' : 'SH', # ??\n",
    "    #'' : 'dt', # ??\n",
    "    'water_skin_temp_corr_avg' : 'T_skin',\n",
    "    'BPelev_mb_Avg' : 'P'\n",
    "}"
   ]
  },
  {
   "cell_type": "code",
   "execution_count": 33,
   "id": "1d92a5ea",
   "metadata": {
    "scrolled": true
   },
   "outputs": [
    {
     "name": "stdout",
     "output_type": "stream",
     "text": [
      "ERROR: missing on or more needed columns for calculation:\n",
      "date, WS, P, T_air, T_skin, RH, SH, dt\n"
     ]
    }
   ],
   "source": [
    "np.seterr('ignore')\n",
    "# create a new Aero object and calculate evaporation on all rows\n",
    "A = Aero(AFClean_df)\n",
    "A.run(sensor_height=2, timestep=1800, variable_names=names)"
   ]
  },
  {
   "cell_type": "code",
   "execution_count": 20,
   "id": "15b45714",
   "metadata": {},
   "outputs": [
    {
     "data": {
      "text/html": [
       "<div>\n",
       "<style scoped>\n",
       "    .dataframe tbody tr th:only-of-type {\n",
       "        vertical-align: middle;\n",
       "    }\n",
       "\n",
       "    .dataframe tbody tr th {\n",
       "        vertical-align: top;\n",
       "    }\n",
       "\n",
       "    .dataframe thead th {\n",
       "        text-align: right;\n",
       "    }\n",
       "</style>\n",
       "<table border=\"1\" class=\"dataframe\">\n",
       "  <thead>\n",
       "    <tr style=\"text-align: right;\">\n",
       "      <th></th>\n",
       "      <th>E</th>\n",
       "      <th>Ce</th>\n",
       "      <th>VPD</th>\n",
       "      <th>stability</th>\n",
       "    </tr>\n",
       "    <tr>\n",
       "      <th>real_date</th>\n",
       "      <th></th>\n",
       "      <th></th>\n",
       "      <th></th>\n",
       "      <th></th>\n",
       "    </tr>\n",
       "  </thead>\n",
       "  <tbody>\n",
       "    <tr>\n",
       "      <th>2015-11-15 09:00:00</th>\n",
       "      <td>NaN</td>\n",
       "      <td>NaN</td>\n",
       "      <td>NaN</td>\n",
       "      <td>NaN</td>\n",
       "    </tr>\n",
       "    <tr>\n",
       "      <th>2015-11-15 09:30:00</th>\n",
       "      <td>0.088163</td>\n",
       "      <td>0.002329</td>\n",
       "      <td>0.727477</td>\n",
       "      <td>-0.256671</td>\n",
       "    </tr>\n",
       "    <tr>\n",
       "      <th>2015-11-15 10:00:00</th>\n",
       "      <td>0.093993</td>\n",
       "      <td>0.002355</td>\n",
       "      <td>0.767022</td>\n",
       "      <td>-0.283769</td>\n",
       "    </tr>\n",
       "    <tr>\n",
       "      <th>2015-11-15 10:30:00</th>\n",
       "      <td>0.084958</td>\n",
       "      <td>0.002539</td>\n",
       "      <td>0.799997</td>\n",
       "      <td>-0.420941</td>\n",
       "    </tr>\n",
       "    <tr>\n",
       "      <th>2015-11-15 11:00:00</th>\n",
       "      <td>0.090003</td>\n",
       "      <td>0.002151</td>\n",
       "      <td>0.755885</td>\n",
       "      <td>-0.106392</td>\n",
       "    </tr>\n",
       "  </tbody>\n",
       "</table>\n",
       "</div>"
      ],
      "text/plain": [
       "                            E        Ce       VPD  stability\n",
       "real_date                                                   \n",
       "2015-11-15 09:00:00       NaN       NaN       NaN        NaN\n",
       "2015-11-15 09:30:00  0.088163  0.002329  0.727477  -0.256671\n",
       "2015-11-15 10:00:00  0.093993  0.002355  0.767022  -0.283769\n",
       "2015-11-15 10:30:00  0.084958  0.002539  0.799997  -0.420941\n",
       "2015-11-15 11:00:00  0.090003  0.002151  0.755885  -0.106392"
      ]
     },
     "execution_count": 20,
     "metadata": {},
     "output_type": "execute_result"
    }
   ],
   "source": [
    "#make sure the data looks okay\n",
    "A.df[['E', 'Ce', 'VPD', 'stability']].tail()"
   ]
  },
  {
   "cell_type": "code",
   "execution_count": 21,
   "id": "ec494047",
   "metadata": {},
   "outputs": [
    {
     "data": {
      "text/plain": [
       "Text(0, 0.5, 'evaporation mm/30 min')"
      ]
     },
     "execution_count": 21,
     "metadata": {},
     "output_type": "execute_result"
    },
    {
     "data": {
      "image/png": "[encoded data removed]",
      "text/plain": [
       "<Figure size 576x288 with 1 Axes>"
      ]
     },
     "metadata": {
      "needs_background": "light"
     },
     "output_type": "display_data"
    }
   ],
   "source": [
    "#View the calculated evaporation\n",
    "plt.figure(figsize=(8,4))\n",
    "A.df.E.plot()\n",
    "plt.ylabel('evaporation mm/30 min')"
   ]
  },
  {
   "cell_type": "code",
   "execution_count": 22,
   "id": "d35fdce4",
   "metadata": {},
   "outputs": [
    {
     "ename": "TypeError",
     "evalue": "Only valid with DatetimeIndex, TimedeltaIndex or PeriodIndex, but got an instance of 'Index'",
     "output_type": "error",
     "traceback": [
      "\u001b[1;31m---------------------------------------------------------------------------\u001b[0m",
      "\u001b[1;31mTypeError\u001b[0m                                 Traceback (most recent call last)",
      "\u001b[1;32m<ipython-input-22-0c2cd158433c>\u001b[0m in \u001b[0;36m<module>\u001b[1;34m\u001b[0m\n\u001b[0;32m      1\u001b[0m \u001b[1;31m#The calculated open-water evaporation is shown below after creating a daily sum\u001b[0m\u001b[1;33m\u001b[0m\u001b[1;33m\u001b[0m\u001b[1;33m\u001b[0m\u001b[0m\n\u001b[0;32m      2\u001b[0m \u001b[0mplt\u001b[0m\u001b[1;33m.\u001b[0m\u001b[0mfigure\u001b[0m\u001b[1;33m(\u001b[0m\u001b[0mfigsize\u001b[0m\u001b[1;33m=\u001b[0m\u001b[1;33m(\u001b[0m\u001b[1;36m8\u001b[0m\u001b[1;33m,\u001b[0m\u001b[1;36m4\u001b[0m\u001b[1;33m)\u001b[0m\u001b[1;33m)\u001b[0m\u001b[1;33m\u001b[0m\u001b[1;33m\u001b[0m\u001b[0m\n\u001b[1;32m----> 3\u001b[1;33m \u001b[0mA\u001b[0m\u001b[1;33m.\u001b[0m\u001b[0mdf\u001b[0m\u001b[1;33m.\u001b[0m\u001b[0mE\u001b[0m\u001b[1;33m.\u001b[0m\u001b[0mresample\u001b[0m\u001b[1;33m(\u001b[0m\u001b[1;34m'D'\u001b[0m\u001b[1;33m)\u001b[0m\u001b[1;33m.\u001b[0m\u001b[0msum\u001b[0m\u001b[1;33m(\u001b[0m\u001b[1;33m)\u001b[0m\u001b[1;33m.\u001b[0m\u001b[0mplot\u001b[0m\u001b[1;33m(\u001b[0m\u001b[1;33m)\u001b[0m\u001b[1;33m\u001b[0m\u001b[1;33m\u001b[0m\u001b[0m\n\u001b[0m\u001b[0;32m      4\u001b[0m \u001b[0mplt\u001b[0m\u001b[1;33m.\u001b[0m\u001b[0mylabel\u001b[0m\u001b[1;33m(\u001b[0m\u001b[1;34m'evaporation mm/day'\u001b[0m\u001b[1;33m)\u001b[0m\u001b[1;33m\u001b[0m\u001b[1;33m\u001b[0m\u001b[0m\n",
      "\u001b[1;32mC:\\MiniConda\\envs\\aeroevap\\lib\\site-packages\\pandas\\core\\generic.py\u001b[0m in \u001b[0;36mresample\u001b[1;34m(self, rule, axis, closed, label, convention, kind, loffset, base, on, level, origin, offset)\u001b[0m\n\u001b[0;32m   8380\u001b[0m             \u001b[0mlevel\u001b[0m\u001b[1;33m=\u001b[0m\u001b[0mlevel\u001b[0m\u001b[1;33m,\u001b[0m\u001b[1;33m\u001b[0m\u001b[1;33m\u001b[0m\u001b[0m\n\u001b[0;32m   8381\u001b[0m             \u001b[0morigin\u001b[0m\u001b[1;33m=\u001b[0m\u001b[0morigin\u001b[0m\u001b[1;33m,\u001b[0m\u001b[1;33m\u001b[0m\u001b[1;33m\u001b[0m\u001b[0m\n\u001b[1;32m-> 8382\u001b[1;33m             \u001b[0moffset\u001b[0m\u001b[1;33m=\u001b[0m\u001b[0moffset\u001b[0m\u001b[1;33m,\u001b[0m\u001b[1;33m\u001b[0m\u001b[1;33m\u001b[0m\u001b[0m\n\u001b[0m\u001b[0;32m   8383\u001b[0m         )\n\u001b[0;32m   8384\u001b[0m \u001b[1;33m\u001b[0m\u001b[0m\n",
      "\u001b[1;32mC:\\MiniConda\\envs\\aeroevap\\lib\\site-packages\\pandas\\core\\resample.py\u001b[0m in \u001b[0;36mget_resampler\u001b[1;34m(obj, kind, **kwds)\u001b[0m\n\u001b[0;32m   1309\u001b[0m     \"\"\"\n\u001b[0;32m   1310\u001b[0m     \u001b[0mtg\u001b[0m \u001b[1;33m=\u001b[0m \u001b[0mTimeGrouper\u001b[0m\u001b[1;33m(\u001b[0m\u001b[1;33m**\u001b[0m\u001b[0mkwds\u001b[0m\u001b[1;33m)\u001b[0m\u001b[1;33m\u001b[0m\u001b[1;33m\u001b[0m\u001b[0m\n\u001b[1;32m-> 1311\u001b[1;33m     \u001b[1;32mreturn\u001b[0m \u001b[0mtg\u001b[0m\u001b[1;33m.\u001b[0m\u001b[0m_get_resampler\u001b[0m\u001b[1;33m(\u001b[0m\u001b[0mobj\u001b[0m\u001b[1;33m,\u001b[0m \u001b[0mkind\u001b[0m\u001b[1;33m=\u001b[0m\u001b[0mkind\u001b[0m\u001b[1;33m)\u001b[0m\u001b[1;33m\u001b[0m\u001b[1;33m\u001b[0m\u001b[0m\n\u001b[0m\u001b[0;32m   1312\u001b[0m \u001b[1;33m\u001b[0m\u001b[0m\n\u001b[0;32m   1313\u001b[0m \u001b[1;33m\u001b[0m\u001b[0m\n",
      "\u001b[1;32mC:\\MiniConda\\envs\\aeroevap\\lib\\site-packages\\pandas\\core\\resample.py\u001b[0m in \u001b[0;36m_get_resampler\u001b[1;34m(self, obj, kind)\u001b[0m\n\u001b[0;32m   1475\u001b[0m \u001b[1;33m\u001b[0m\u001b[0m\n\u001b[0;32m   1476\u001b[0m         raise TypeError(\n\u001b[1;32m-> 1477\u001b[1;33m             \u001b[1;34m\"Only valid with DatetimeIndex, \"\u001b[0m\u001b[1;33m\u001b[0m\u001b[1;33m\u001b[0m\u001b[0m\n\u001b[0m\u001b[0;32m   1478\u001b[0m             \u001b[1;34m\"TimedeltaIndex or PeriodIndex, \"\u001b[0m\u001b[1;33m\u001b[0m\u001b[1;33m\u001b[0m\u001b[0m\n\u001b[0;32m   1479\u001b[0m             \u001b[1;34mf\"but got an instance of '{type(ax).__name__}'\"\u001b[0m\u001b[1;33m\u001b[0m\u001b[1;33m\u001b[0m\u001b[0m\n",
      "\u001b[1;31mTypeError\u001b[0m: Only valid with DatetimeIndex, TimedeltaIndex or PeriodIndex, but got an instance of 'Index'"
     ]
    },
    {
     "data": {
      "text/plain": [
       "<Figure size 576x288 with 0 Axes>"
      ]
     },
     "metadata": {},
     "output_type": "display_data"
    }
   ],
   "source": [
    "#The calculated open-water evaporation is shown below after creating a daily sum\n",
    "plt.figure(figsize=(8,4))\n",
    "A.df.E.resample('D').sum().plot()\n",
    "plt.ylabel('evaporation mm/day')"
   ]
  },
  {
   "cell_type": "code",
   "execution_count": null,
   "id": "e3b77a7e",
   "metadata": {},
   "outputs": [],
   "source": [
    "#wind speed relation versus the calculated evaporation\n",
    "plt.figure(figsize=(8,4))\n",
    "plt.scatter(A.df.WSPD.resample('D').mean(), A.df.E.resample('D').sum())\n",
    "plt.ylabel('evaporation mm/day')\n",
    "plt.xlabel('mean daily wind speed m/s')"
   ]
  },
  {
   "cell_type": "code",
   "execution_count": null,
   "id": "7cdc7458",
   "metadata": {},
   "outputs": [],
   "source": [
    "#Monin-Obhukov Similarity Theory stability parameter (z/L) for relating the wind speed to the bulk transfer coefficient\n",
    "stable = np.real(A.df.stability) > 0 \n",
    "unstable = np.real(A.df.stability) < 0\n",
    "neutral = np.real(A.df.stability) == 0\n",
    "\n",
    "plt.figure(figsize=(8,6))\n",
    "plt.scatter(A.df.WSPD[stable], A.df.Ce[stable], marker='x', color='blue', label='stable')\n",
    "plt.scatter(A.df.WSPD[unstable], A.df.Ce[unstable], marker='x', color='red', label='unstable')\n",
    "plt.scatter(A.df.WSPD[neutral], A.df.Ce[neutral], marker='o', color='black', label='neutral')\n",
    "plt.ylim(0,0.006)\n",
    "plt.ylabel(r'$C_e$', fontsize=12)\n",
    "plt.xlabel('Wind speed m/s')\n",
    "plt.legend()"
   ]
  }
 ],
 "metadata": {
  "kernelspec": {
   "display_name": "aeroevap",
   "language": "python",
   "name": "aeroevap"
  },
  "language_info": {
   "codemirror_mode": {
    "name": "ipython",
    "version": 3
   },
   "file_extension": ".py",
   "mimetype": "text/x-python",
   "name": "python",
   "nbconvert_exporter": "python",
   "pygments_lexer": "ipython3",
   "version": "3.7.10"
  }
 },
 "nbformat": 4,
 "nbformat_minor": 5
}
